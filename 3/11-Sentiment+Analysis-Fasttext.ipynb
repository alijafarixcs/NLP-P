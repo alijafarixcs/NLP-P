{
 "cells": [
  {
   "cell_type": "markdown",
   "metadata": {},
   "source": [
    "# Sentiment Analysis"
   ]
  },
  {
   "cell_type": "code",
   "execution_count": 1,
   "metadata": {},
   "outputs": [],
   "source": [
    "from __future__ import unicode_literals\n",
    "import re, codecs\n",
    "from collections import Counter\n",
    "from nltk.tokenize.api import TokenizerI\n",
    "import sys\n",
    "from os import path\n",
    "import codecs\n",
    "import itertools\n",
    "import fasttext\n",
    "import pandas as pd\n",
    "from sklearn.model_selection import train_test_split\n",
    "import csv\n",
    "import re\n",
    "import numpy as np\n",
    "from sklearn.metrics import confusion_matrix\n",
    "import pandas as pd\n",
    "import matplotlib.pyplot as plt\n",
    "from hazm import *"
   ]
  },
  {
   "cell_type": "markdown",
   "metadata": {},
   "source": [
    "## Machine Learning Approach"
   ]
  },
  {
   "cell_type": "code",
   "execution_count": 2,
   "metadata": {},
   "outputs": [
    {
     "data": {
      "text/html": [
       "<div>\n",
       "<style scoped>\n",
       "    .dataframe tbody tr th:only-of-type {\n",
       "        vertical-align: middle;\n",
       "    }\n",
       "\n",
       "    .dataframe tbody tr th {\n",
       "        vertical-align: top;\n",
       "    }\n",
       "\n",
       "    .dataframe thead th {\n",
       "        text-align: right;\n",
       "    }\n",
       "</style>\n",
       "<table border=\"1\" class=\"dataframe\">\n",
       "  <thead>\n",
       "    <tr style=\"text-align: right;\">\n",
       "      <th></th>\n",
       "      <th>Sentiment</th>\n",
       "      <th>Text</th>\n",
       "    </tr>\n",
       "  </thead>\n",
       "  <tbody>\n",
       "    <tr>\n",
       "      <th>0</th>\n",
       "      <td>__label__Neg</td>\n",
       "      <td>یکی از پرسنل شعبه به نام مراتی به علت خصومت شخ...</td>\n",
       "    </tr>\n",
       "    <tr>\n",
       "      <th>1</th>\n",
       "      <td>__label__Neg</td>\n",
       "      <td>وضعیت اسفبار ووحشتناک نوبت دندانپزشکی مخصوصا پ...</td>\n",
       "    </tr>\n",
       "    <tr>\n",
       "      <th>2</th>\n",
       "      <td>__label__Neg</td>\n",
       "      <td>متاسفانه باجه ای که منو ارجاع دادید مرخصی رفته...</td>\n",
       "    </tr>\n",
       "    <tr>\n",
       "      <th>3</th>\n",
       "      <td>__label__Neg</td>\n",
       "      <td>متاسفانه کارکنان مربوطه با اخلاق بد،بی حوصلگی ...</td>\n",
       "    </tr>\n",
       "    <tr>\n",
       "      <th>4</th>\n",
       "      <td>__label__Neg</td>\n",
       "      <td>خانم اربابی مزخرف</td>\n",
       "    </tr>\n",
       "    <tr>\n",
       "      <th>...</th>\n",
       "      <td>...</td>\n",
       "      <td>...</td>\n",
       "    </tr>\n",
       "    <tr>\n",
       "      <th>713</th>\n",
       "      <td>__label__Pos</td>\n",
       "      <td>کاش روند الکترونیکی کردن برای همه خدمات انجام بشه</td>\n",
       "    </tr>\n",
       "    <tr>\n",
       "      <th>714</th>\n",
       "      <td>__label__Pos</td>\n",
       "      <td>اما بقیه پرسنل خیلی کمک و راهنمایی می کردند</td>\n",
       "    </tr>\n",
       "    <tr>\n",
       "      <th>715</th>\n",
       "      <td>__label__Pos</td>\n",
       "      <td>عالییییییی</td>\n",
       "    </tr>\n",
       "    <tr>\n",
       "      <th>716</th>\n",
       "      <td>__label__Pos</td>\n",
       "      <td>واحد درآمد، سرعت عمل بیشتری داشته باشد</td>\n",
       "    </tr>\n",
       "    <tr>\n",
       "      <th>717</th>\n",
       "      <td>__label__Pos</td>\n",
       "      <td>به نظر من ایده خیلی خوبی بوده برای انجام کارها...</td>\n",
       "    </tr>\n",
       "  </tbody>\n",
       "</table>\n",
       "<p>718 rows × 2 columns</p>\n",
       "</div>"
      ],
      "text/plain": [
       "        Sentiment                                               Text\n",
       "0    __label__Neg  یکی از پرسنل شعبه به نام مراتی به علت خصومت شخ...\n",
       "1    __label__Neg  وضعیت اسفبار ووحشتناک نوبت دندانپزشکی مخصوصا پ...\n",
       "2    __label__Neg  متاسفانه باجه ای که منو ارجاع دادید مرخصی رفته...\n",
       "3    __label__Neg  متاسفانه کارکنان مربوطه با اخلاق بد،بی حوصلگی ...\n",
       "4    __label__Neg                                  خانم اربابی مزخرف\n",
       "..            ...                                                ...\n",
       "713  __label__Pos  کاش روند الکترونیکی کردن برای همه خدمات انجام بشه\n",
       "714  __label__Pos        اما بقیه پرسنل خیلی کمک و راهنمایی می کردند\n",
       "715  __label__Pos                                         عالییییییی\n",
       "716  __label__Pos             واحد درآمد، سرعت عمل بیشتری داشته باشد\n",
       "717  __label__Pos  به نظر من ایده خیلی خوبی بوده برای انجام کارها...\n",
       "\n",
       "[718 rows x 2 columns]"
      ]
     },
     "execution_count": 2,
     "metadata": {},
     "output_type": "execute_result"
    }
   ],
   "source": [
    "df = pd.read_csv(r'Sentiment.txt',sep='\\t')\n",
    "\n",
    "df"
   ]
  },
  {
   "cell_type": "code",
   "execution_count": 40,
   "metadata": {
    "collapsed": true
   },
   "outputs": [],
   "source": [
    "def clean(text,normalizer = Normalizer()):\n",
    "    import itertools\n",
    "    text = normalizer.normalize(text)\n",
    "    text = ''.join(ch for ch, _ in itertools.groupby(text))\n",
    "    return text.strip()\n"
   ]
  },
  {
   "cell_type": "code",
   "execution_count": 41,
   "metadata": {},
   "outputs": [],
   "source": [
    "#!pip install pandarallel\n",
    "from pandarallel import pandarallel\n"
   ]
  },
  {
   "cell_type": "code",
   "execution_count": 45,
   "metadata": {},
   "outputs": [
    {
     "name": "stdout",
     "output_type": "stream",
     "text": [
      "INFO: Pandarallel will run on 100 workers.\n",
      "INFO: Pandarallel will use standard multiprocessing data transfer (pipe) to transfer data between the main process and workers.\n",
      "\n",
      "WARNING: You are on Windows. If you detect any issue with pandarallel, be sure you checked out the Troubleshooting page:\n",
      "https://nalepae.github.io/pandarallel/troubleshooting/\n"
     ]
    },
    {
     "name": "stderr",
     "output_type": "stream",
     "text": [
      "Exception in thread Thread-105 (_handle_workers):\n",
      "Traceback (most recent call last):\n",
      "  File \"C:\\Users\\alire\\.pyenv\\pyenv-win\\versions\\3.11.3\\Lib\\threading.py\", line 1038, in _bootstrap_inner\n",
      "    self.run()\n",
      "  File \"c:\\NLP\\NLP-P\\.venv\\Lib\\site-packages\\ipykernel\\ipkernel.py\", line 766, in run_closure\n",
      "    _threading_Thread_run(self)\n",
      "  File \"C:\\Users\\alire\\.pyenv\\pyenv-win\\versions\\3.11.3\\Lib\\threading.py\", line 975, in run\n",
      "    self._target(*self._args, **self._kwargs)\n",
      "  File \"C:\\Users\\alire\\.pyenv\\pyenv-win\\versions\\3.11.3\\Lib\\multiprocessing\\pool.py\", line 522, in _handle_workers\n",
      "    cls._wait_for_updates(current_sentinels, change_notifier)\n",
      "  File \"C:\\Users\\alire\\.pyenv\\pyenv-win\\versions\\3.11.3\\Lib\\multiprocessing\\pool.py\", line 502, in _wait_for_updates\n",
      "    wait(sentinels, timeout=timeout)\n",
      "  File \"C:\\Users\\alire\\.pyenv\\pyenv-win\\versions\\3.11.3\\Lib\\multiprocessing\\connection.py\", line 878, in wait\n",
      "    ready_handles = _exhaustive_wait(waithandle_to_obj.keys(), timeout)\n",
      "                    ^^^^^^^^^^^^^^^^^^^^^^^^^^^^^^^^^^^^^^^^^^^^^^^^^^^\n",
      "  File \"C:\\Users\\alire\\.pyenv\\pyenv-win\\versions\\3.11.3\\Lib\\multiprocessing\\connection.py\", line 810, in _exhaustive_wait\n",
      "    res = _winapi.WaitForMultipleObjects(L, False, timeout)\n",
      "          ^^^^^^^^^^^^^^^^^^^^^^^^^^^^^^^^^^^^^^^^^^^^^^^^^\n",
      "ValueError: need at most 63 handles, got a sequence of length 102\n"
     ]
    }
   ],
   "source": [
    "pandarallel.initialize(nb_workers=4)\n",
    "result_parallel = df['Text'].parallel_apply(clean) \n"
   ]
  },
  {
   "cell_type": "code",
   "execution_count": 44,
   "metadata": {},
   "outputs": [
    {
     "data": {
      "text/plain": [
       "0      یکی از پرسنل شعبه به نام مراتی به علت خصومت شخ...\n",
       "1      وضعیت اسفبار وحشتناک نوبت دندانپزشکی مخصوصا پر...\n",
       "2      متاسفانه باجه‌ای که منو ارجاع دادید مرخصی رفته...\n",
       "3      متاسفانه کارکنان مربوطه با اخلاق بد، بی‌حوصلگی...\n",
       "4                                      خانم اربابی مزخرف\n",
       "                             ...                        \n",
       "713    کاش روند الکترونیکی کردن برای همه خدمات انجام بشه\n",
       "714           اما بقیه پرسنل خیلی کمک و راهنمای می‌کردند\n",
       "715                                                 عالی\n",
       "716               واحد درآمد، سرعت عمل بیشتری داشته باشد\n",
       "717    به نظر من ایده خیلی خوبی بوده برای انجام کارها...\n",
       "Name: Text, Length: 718, dtype: object"
      ]
     },
     "execution_count": 44,
     "metadata": {},
     "output_type": "execute_result"
    }
   ],
   "source": [
    "result_parallel"
   ]
  },
  {
   "cell_type": "code",
   "execution_count": null,
   "metadata": {},
   "outputs": [],
   "source": [
    "train, test = train_test_split(df, test_size=0.2)\n",
    "train_file = r'train.csv'\n",
    "test_file = r'test.csv'\n",
    "train.to_csv(train_file, sep=\"\\t\", quoting=csv.QUOTE_NONE, index=False, header=False,encoding='utf-8')\n",
    "test.to_csv(test_file, sep=\"\\t\", quoting=csv.QUOTE_NONE, index=False, header=False,encoding='utf-8')"
   ]
  },
  {
   "cell_type": "code",
   "execution_count": null,
   "metadata": {},
   "outputs": [
    {
     "data": {
      "text/plain": [
       "<fasttext.FastText._FastText at 0x245907baef0>"
      ]
     },
     "execution_count": 6,
     "metadata": {},
     "output_type": "execute_result"
    }
   ],
   "source": [
    "su_model = fasttext.train_supervised(input=train_file, epoch=100, lr=1.0, wordNgrams=5, minCount=1,dim =200)\n",
    "fasttext.train_unsupervised\n",
    "su_model"
   ]
  },
  {
   "cell_type": "code",
   "execution_count": null,
   "metadata": {
    "collapsed": true
   },
   "outputs": [],
   "source": [
    "su_model.save_model(r'FasttextModel2.bin')"
   ]
  },
  {
   "cell_type": "code",
   "execution_count": null,
   "metadata": {},
   "outputs": [
    {
     "data": {
      "text/plain": [
       "array([-3.23364548e-02,  6.29125535e-02, -9.96934436e-03, -2.33071409e-02,\n",
       "       -3.34123112e-02,  5.84273450e-02,  8.80463747e-04,  7.42533337e-03,\n",
       "        1.03353467e-02, -2.29718499e-02, -3.08449119e-02,  5.38741350e-02,\n",
       "        5.10818958e-02, -1.99292600e-02, -5.97235840e-03,  3.05323116e-02,\n",
       "       -1.38158230e-02, -3.97902653e-02,  7.95101076e-02, -1.26415312e-01,\n",
       "        3.40842865e-02,  1.91603904e-03,  6.72887787e-02, -1.02161743e-01,\n",
       "       -6.00176351e-03, -2.00359896e-02, -1.38403490e-01, -1.82072213e-03,\n",
       "        2.44435612e-02, -4.53470647e-02, -5.74690364e-02,  5.58250025e-03,\n",
       "       -5.53023666e-02, -6.31698743e-02, -6.21777512e-02, -7.59113356e-02,\n",
       "        4.43873443e-02, -1.32729318e-02,  6.71401173e-02, -5.70142493e-02,\n",
       "        5.04673943e-02, -6.41205814e-04,  4.66601029e-02, -9.37947445e-03,\n",
       "        6.07297719e-02, -3.83471027e-02, -5.25359102e-02,  6.82672346e-03,\n",
       "        7.44590089e-02,  5.36474586e-02,  7.71061853e-02, -1.84212178e-02,\n",
       "       -6.88334554e-02,  2.07988992e-02,  2.29214635e-02, -9.05494019e-02,\n",
       "       -9.63634159e-03, -4.19253781e-02,  3.71804051e-02,  5.54196350e-03,\n",
       "        3.73959206e-02, -6.56454638e-02, -6.18575625e-02, -1.93830598e-02,\n",
       "        2.78367642e-02,  4.99049155e-03, -5.54469489e-02, -9.55702644e-03,\n",
       "       -9.69404448e-03,  5.46721183e-02, -2.83206105e-02,  2.42181662e-02,\n",
       "        1.21846506e-02,  1.71959940e-02,  3.96169797e-02, -1.13863703e-02,\n",
       "        8.73690322e-02,  5.37792444e-02, -8.99836421e-02, -8.36683288e-02,\n",
       "       -1.32817943e-02,  1.03074044e-01,  3.26722562e-02, -7.95940682e-02,\n",
       "        2.52173357e-02, -6.56685010e-02, -2.39009410e-02, -1.39679257e-02,\n",
       "       -1.43609736e-02, -4.56847288e-02,  1.92798097e-02,  4.58217151e-02,\n",
       "       -2.29785182e-02, -4.01975177e-02, -6.13867193e-02, -6.33379370e-02,\n",
       "        3.75923663e-02,  4.01964560e-02, -4.05926211e-03, -5.81584759e-02,\n",
       "        1.83870774e-02,  7.05967024e-02,  2.44699954e-03,  2.48547364e-03,\n",
       "        6.44636676e-02, -6.16202923e-03, -6.36339039e-02, -4.48041596e-02,\n",
       "        1.83379115e-03, -7.07188919e-02,  5.27710468e-02, -7.95534998e-02,\n",
       "        3.28803994e-03,  5.96841238e-02,  1.13154138e-02, -9.64500308e-02,\n",
       "        6.55977502e-02,  6.76265508e-02, -3.44688334e-02,  2.94960197e-02,\n",
       "       -3.32755595e-02,  4.53214021e-03,  1.82604063e-02, -4.45723087e-02,\n",
       "        3.43089050e-04,  2.04128977e-02, -6.47863075e-02,  1.53211085e-02,\n",
       "       -9.67334118e-03,  1.93091910e-02, -7.23197833e-02,  4.96421643e-02,\n",
       "        4.21345048e-02, -2.37270538e-02,  3.79243167e-03, -1.35189863e-02,\n",
       "       -6.94023678e-03,  5.18697612e-02, -5.25705405e-02,  1.30164362e-02,\n",
       "       -9.09096375e-02,  8.19170922e-02, -2.07812283e-02, -5.41382656e-02,\n",
       "        4.17524576e-02,  4.22095582e-02, -2.08791289e-02,  1.00578107e-02,\n",
       "       -7.05140308e-02,  1.80846993e-02,  7.73619041e-02,  3.82482260e-02,\n",
       "       -7.44281756e-03,  2.64831968e-02, -8.10094327e-02, -5.07498189e-05,\n",
       "       -3.34522687e-02, -5.85052893e-02,  9.43657979e-02,  3.89035530e-02,\n",
       "        5.80701157e-02,  4.10617096e-04, -4.89879698e-02,  5.78090511e-02,\n",
       "       -3.69071402e-02, -6.78478554e-03,  4.25538905e-02, -2.44693365e-02,\n",
       "       -1.06149521e-02, -1.89897269e-02, -2.08290983e-02,  4.56877574e-02,\n",
       "        4.05506007e-02, -2.66863313e-02,  1.35066416e-02, -1.06656976e-01,\n",
       "       -1.36209419e-02, -3.80806997e-02,  4.23818175e-03,  8.48281384e-02,\n",
       "       -1.11351246e-02,  3.15016396e-02,  1.74742207e-04,  2.47164927e-02,\n",
       "       -4.91173640e-02, -1.76992323e-02,  1.62636936e-02,  1.43935438e-02,\n",
       "       -6.18643127e-02,  3.42691466e-02,  5.67072928e-02, -2.21393835e-02,\n",
       "       -5.34495525e-02,  1.61514175e-03,  1.18901096e-01,  1.98382605e-02,\n",
       "       -2.14704107e-02, -1.82907023e-02,  6.13287054e-02,  3.55968997e-02],\n",
       "      dtype=float32)"
      ]
     },
     "execution_count": 8,
     "metadata": {},
     "output_type": "execute_result"
    }
   ],
   "source": [
    "su_model.get_word_vector('شعبه')"
   ]
  },
  {
   "cell_type": "code",
   "execution_count": null,
   "metadata": {},
   "outputs": [
    {
     "data": {
      "text/plain": [
       "array([-0.01311496,  0.02703333, -0.00483818, -0.01132382, -0.01159886,\n",
       "        0.02259956, -0.00047575,  0.00251272,  0.00280101, -0.00857863,\n",
       "       -0.01239226,  0.02030926,  0.0190504 , -0.00838206, -0.00462357,\n",
       "        0.00897603, -0.00635855, -0.01436945,  0.02981447, -0.04782717,\n",
       "        0.0143602 ,  0.00203382,  0.02551993, -0.04135893, -0.00291965,\n",
       "       -0.00759567, -0.05447718, -0.00046405,  0.00970153, -0.01576062,\n",
       "       -0.02225106,  0.00291018, -0.02029461, -0.02422708, -0.02281082,\n",
       "       -0.02789188,  0.01615327, -0.00551164,  0.02455725, -0.02448724,\n",
       "        0.02056898,  0.00067228,  0.01795144, -0.00468463,  0.0215255 ,\n",
       "       -0.0163596 , -0.01958493,  0.00246451,  0.02784727,  0.01911625,\n",
       "        0.0293433 , -0.00591376, -0.02640825,  0.00855471,  0.01057095,\n",
       "       -0.03459552, -0.00484018, -0.01568855,  0.01596297,  0.00167147,\n",
       "        0.01535848, -0.02766239, -0.02292398, -0.00868545,  0.01289462,\n",
       "        0.00321713, -0.02247933, -0.00409247, -0.00223933,  0.02209139,\n",
       "       -0.00867428,  0.009141  ,  0.00387175,  0.00567113,  0.01568044,\n",
       "       -0.00503845,  0.03309537,  0.02065978, -0.03619197, -0.03124991,\n",
       "       -0.00725177,  0.03796119,  0.01354015, -0.02965318,  0.00825452,\n",
       "       -0.02581624, -0.0089204 , -0.00751723, -0.0058424 , -0.01579761,\n",
       "        0.00753033,  0.0161072 , -0.00994944, -0.01589834, -0.02250261,\n",
       "       -0.02255125,  0.01442196,  0.01634721, -0.00041629, -0.02190849,\n",
       "        0.00624095,  0.02636218,  0.000889  ,  0.00264911,  0.02501451,\n",
       "       -0.00358887, -0.02392837, -0.0172074 ,  0.00175944, -0.02681029,\n",
       "        0.01950368, -0.03218579,  0.00223101,  0.02139293,  0.00500572,\n",
       "       -0.03855508,  0.02422825,  0.02646978, -0.01466577,  0.01220393,\n",
       "       -0.01397533,  0.00338919,  0.00603763, -0.01579486, -0.00037464,\n",
       "        0.00859533, -0.0257556 ,  0.0066086 , -0.00245332,  0.00751127,\n",
       "       -0.03057944,  0.01722674,  0.01551397, -0.01086119,  0.00111019,\n",
       "       -0.00387246, -0.002556  ,  0.02142366, -0.01880173,  0.00367272,\n",
       "       -0.03654598,  0.03140601, -0.00742085, -0.02111571,  0.01714044,\n",
       "        0.01740243, -0.0090889 ,  0.00278244, -0.02681879,  0.00800143,\n",
       "        0.03146839,  0.0130945 , -0.00411839,  0.01113614, -0.03036673,\n",
       "        0.00030608, -0.0125426 , -0.02173243,  0.03663184,  0.01398542,\n",
       "        0.0224503 ,  0.00059427, -0.02083465,  0.02278203, -0.01337491,\n",
       "       -0.00166072,  0.01478668, -0.01006786, -0.00544825, -0.00856479,\n",
       "       -0.0051269 ,  0.01818472,  0.01681632, -0.01076317,  0.00735924,\n",
       "       -0.04352256, -0.00234396, -0.01555262,  0.00221459,  0.03186433,\n",
       "       -0.00472376,  0.01273735, -0.00051167,  0.01033138, -0.01883976,\n",
       "       -0.00825408,  0.00660244,  0.00700989, -0.02335022,  0.0148532 ,\n",
       "        0.02120444, -0.0069341 , -0.01900497,  0.00020217,  0.04351535,\n",
       "        0.00893616, -0.00922048, -0.00707241,  0.02306049,  0.01427304],\n",
       "      dtype=float32)"
      ]
     },
     "execution_count": 9,
     "metadata": {},
     "output_type": "execute_result"
    }
   ],
   "source": [
    "su_model.get_sentence_vector('کارمندان شعبه خوب بودند')"
   ]
  },
  {
   "cell_type": "code",
   "execution_count": null,
   "metadata": {},
   "outputs": [
    {
     "data": {
      "text/plain": [
       "(('__label__Pos',), array([1.00000989]))"
      ]
     },
     "execution_count": 10,
     "metadata": {},
     "output_type": "execute_result"
    }
   ],
   "source": [
    "su_model.predict('کارمندان خیلی عالی بودند')"
   ]
  },
  {
   "cell_type": "code",
   "execution_count": null,
   "metadata": {},
   "outputs": [
    {
     "data": {
      "text/plain": [
       "(('__label__Pos',), array([1.00001001]))"
      ]
     },
     "execution_count": 19,
     "metadata": {},
     "output_type": "execute_result"
    }
   ],
   "source": [
    "su_model.predict(' شعبه صاحب ')"
   ]
  },
  {
   "cell_type": "code",
   "execution_count": null,
   "metadata": {
    "collapsed": true
   },
   "outputs": [],
   "source": [
    "def print_results(N, p, r):\n",
    "    print(\"N\\t\" + str(N))\n",
    "    print(\"P@{}\\t{:.3f}\".format(1, p))\n",
    "    print(\"R@{}\\t{:.3f}\".format(1, r))"
   ]
  },
  {
   "cell_type": "code",
   "execution_count": null,
   "metadata": {},
   "outputs": [
    {
     "name": "stdout",
     "output_type": "stream",
     "text": [
      "N\t144\n",
      "P@1\t0.819\n",
      "R@1\t0.819\n"
     ]
    }
   ],
   "source": [
    "print_results(*su_model.test(test_file))"
   ]
  },
  {
   "cell_type": "code",
   "execution_count": null,
   "metadata": {
    "collapsed": true
   },
   "outputs": [],
   "source": [
    "def get_true_postive_count(cm, model, df, label_column_name, text_column_name, target_class):\n",
    "    predictions = [model.predict(x)[0][0] for x in df[df[label_column_name] == target_class][text_column_name]]\n",
    "    tp_count = len(list(filter(lambda x: x==target_class, predictions)))\n",
    "    index = np.where(cm==tp_count)\n",
    "    if index[0][0] == index[1][0]:\n",
    "        return index[0][0]\n",
    "    else:\n",
    "        raise ValueError('COuld not find the index ' + index)\n",
    "        \n",
    "        \n",
    "def resolve_labels_sequence(classes, cm, model, df, label_column_name, text_column_name):\n",
    "    target_seq = [0] * len(classes)\n",
    "    for label in classes:\n",
    "        index = get_true_postive_count(cm, model, df, label_column_name, text_column_name, label)\n",
    "        target_seq[index] = label\n",
    "    return target_seq\n",
    "\n",
    "\n",
    "def fasttext_confusion_matrix(model, pd_test_data, label_column_name, text_column_name):\n",
    "    test_labels = pd_test_data[label_column_name]\n",
    "    test_labels = np.array(test_labels)\n",
    "    _classes = list(set(test_labels))\n",
    "    pred_labels = [model.predict(x)[0][0] for x in pd_test_data[text_column_name]]\n",
    "    pred_labels = np.array(pred_labels)\n",
    "    eq = test_labels == pred_labels\n",
    "    print(\"Accuracy: \" + str(eq.sum() / len(test_labels)))\n",
    "    cm = confusion_matrix(test_labels, pred_labels)\n",
    "    labels = resolve_labels_sequence(_classes, cm, model, pd_test_data, label_column_name, text_column_name)\n",
    "    print(labels)\n",
    "    print(confusion_matrix(test_labels, pred_labels, labels=labels))\n",
    "    df_cm = pd.DataFrame(cm, index = labels, columns = labels)\n",
    "    plt.figure(figsize = (10,7))\n"
   ]
  },
  {
   "cell_type": "code",
   "execution_count": null,
   "metadata": {},
   "outputs": [
    {
     "name": "stdout",
     "output_type": "stream",
     "text": [
      "Accuracy: 0.8194444444444444\n",
      "['__label__Neg', '__label__Pos']\n",
      "[[77  7]\n",
      " [19 41]]\n"
     ]
    }
   ],
   "source": [
    "fasttext_confusion_matrix(su_model, test, 'Sentiment', 'Text')"
   ]
  },
  {
   "cell_type": "code",
   "execution_count": null,
   "metadata": {
    "collapsed": true
   },
   "outputs": [],
   "source": []
  }
 ],
 "metadata": {
  "kernelspec": {
   "display_name": "Python 3",
   "language": "python",
   "name": "python3"
  },
  "language_info": {
   "codemirror_mode": {
    "name": "ipython",
    "version": 3
   },
   "file_extension": ".py",
   "mimetype": "text/x-python",
   "name": "python",
   "nbconvert_exporter": "python",
   "pygments_lexer": "ipython3",
   "version": "3.11.3"
  }
 },
 "nbformat": 4,
 "nbformat_minor": 2
}
