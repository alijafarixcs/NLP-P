{
 "cells": [
  {
   "cell_type": "markdown",
   "metadata": {},
   "source": [
    "# Selenium"
   ]
  },
  {
   "cell_type": "markdown",
   "metadata": {},
   "source": [
    "## Import"
   ]
  },
  {
   "cell_type": "code",
   "execution_count": 1,
   "metadata": {
    "collapsed": true
   },
   "outputs": [],
   "source": [
    "from selenium import webdriver"
   ]
  },
  {
   "cell_type": "code",
   "execution_count": 56,
   "metadata": {
    "collapsed": true
   },
   "outputs": [],
   "source": [
    "driver = webdriver.Chrome(executable_path=r\"D:\\chromedriver.exe\")\n"
   ]
  },
  {
   "cell_type": "markdown",
   "metadata": {},
   "source": [
    "## Load WebSite"
   ]
  },
  {
   "cell_type": "code",
   "execution_count": 57,
   "metadata": {
    "collapsed": true
   },
   "outputs": [],
   "source": [
    "driver.get(\"https://google.com\")"
   ]
  },
  {
   "cell_type": "markdown",
   "metadata": {},
   "source": [
    "## Send a Query"
   ]
  },
  {
   "cell_type": "code",
   "execution_count": 4,
   "metadata": {
    "collapsed": true
   },
   "outputs": [],
   "source": [
    "#body > div.L3eUgb > div.o3j99.ikrT4e.om7nvf > form > div:nth-child(1) > div.A8SBwf > div.RNNXgb > div > div.a4bIc > input\n",
    "search = driver.find_element_by_css_selector(\"body > div.L3eUgb > div.o3j99.ikrT4e.om7nvf > form > div:nth-child(1) > div.A8SBwf > div.RNNXgb > div > div.a4bIc > input\")"
   ]
  },
  {
   "cell_type": "code",
   "execution_count": 5,
   "metadata": {},
   "outputs": [
    {
     "data": {
      "text/plain": [
       "<selenium.webdriver.remote.webelement.WebElement (session=\"16cac0dacbe0c8976bc0551960142b1c\", element=\"49a586c4-b500-413e-b0bc-cd4ad4098982\")>"
      ]
     },
     "execution_count": 5,
     "metadata": {},
     "output_type": "execute_result"
    }
   ],
   "source": [
    "search"
   ]
  },
  {
   "cell_type": "code",
   "execution_count": 6,
   "metadata": {
    "collapsed": true
   },
   "outputs": [],
   "source": [
    "search.send_keys(\"علم داده\")"
   ]
  },
  {
   "cell_type": "code",
   "execution_count": 7,
   "metadata": {
    "collapsed": true
   },
   "outputs": [],
   "source": [
    "from selenium.webdriver.common.keys import Keys\n",
    "search.send_keys(Keys.ENTER)\n",
    "\n",
    "Keys."
   ]
  },
  {
   "cell_type": "code",
   "execution_count": null,
   "metadata": {
    "collapsed": true
   },
   "outputs": [],
   "source": [
    "# search.send_keys(\"علم داده\")\n",
    "\n",
    "# search.submit()"
   ]
  },
  {
   "cell_type": "markdown",
   "metadata": {},
   "source": [
    "## Find News"
   ]
  },
  {
   "cell_type": "code",
   "execution_count": 9,
   "metadata": {},
   "outputs": [
    {
     "name": "stdout",
     "output_type": "stream",
     "text": [
      "14\n"
     ]
    },
    {
     "data": {
      "text/plain": [
       "[<selenium.webdriver.remote.webelement.WebElement (session=\"16cac0dacbe0c8976bc0551960142b1c\", element=\"04f4aed0-8ccb-4bad-a46e-61abf6b98596\")>,\n",
       " <selenium.webdriver.remote.webelement.WebElement (session=\"16cac0dacbe0c8976bc0551960142b1c\", element=\"ec7d6d90-1bf5-416c-8562-f95939716155\")>,\n",
       " <selenium.webdriver.remote.webelement.WebElement (session=\"16cac0dacbe0c8976bc0551960142b1c\", element=\"3cefcb71-e568-45c8-b180-377ebbab8a9b\")>,\n",
       " <selenium.webdriver.remote.webelement.WebElement (session=\"16cac0dacbe0c8976bc0551960142b1c\", element=\"e6cc7396-9e72-4d62-badf-c1016e8f65e8\")>,\n",
       " <selenium.webdriver.remote.webelement.WebElement (session=\"16cac0dacbe0c8976bc0551960142b1c\", element=\"dc6709c2-30fe-49af-9718-9c4460da58a5\")>,\n",
       " <selenium.webdriver.remote.webelement.WebElement (session=\"16cac0dacbe0c8976bc0551960142b1c\", element=\"98c2738a-5bee-48b4-90b6-d23a5a925e5c\")>,\n",
       " <selenium.webdriver.remote.webelement.WebElement (session=\"16cac0dacbe0c8976bc0551960142b1c\", element=\"e79f8513-d4dc-467e-88d8-4ad0ad66cd22\")>,\n",
       " <selenium.webdriver.remote.webelement.WebElement (session=\"16cac0dacbe0c8976bc0551960142b1c\", element=\"7b56fc49-4f63-4bea-9fd3-a77c9bf443f8\")>,\n",
       " <selenium.webdriver.remote.webelement.WebElement (session=\"16cac0dacbe0c8976bc0551960142b1c\", element=\"2c4f3b6f-fc2e-47f7-9042-a7e3bcea77a0\")>,\n",
       " <selenium.webdriver.remote.webelement.WebElement (session=\"16cac0dacbe0c8976bc0551960142b1c\", element=\"a1d446ad-2945-4123-8dfc-15de0bad9a33\")>,\n",
       " <selenium.webdriver.remote.webelement.WebElement (session=\"16cac0dacbe0c8976bc0551960142b1c\", element=\"508a2a52-3830-4223-ab82-4b89fe625ad4\")>,\n",
       " <selenium.webdriver.remote.webelement.WebElement (session=\"16cac0dacbe0c8976bc0551960142b1c\", element=\"616175b7-89af-4dac-a690-7ae5436dfe5e\")>,\n",
       " <selenium.webdriver.remote.webelement.WebElement (session=\"16cac0dacbe0c8976bc0551960142b1c\", element=\"b707ff64-2c1f-4840-a906-9334d5e8f7cb\")>,\n",
       " <selenium.webdriver.remote.webelement.WebElement (session=\"16cac0dacbe0c8976bc0551960142b1c\", element=\"e960008a-4cc8-48b4-84b1-a13a9f195fd3\")>]"
      ]
     },
     "execution_count": 9,
     "metadata": {},
     "output_type": "execute_result"
    }
   ],
   "source": [
    "#rso > div:nth-child(1) > div > div > div.yuRUbf > a > h3 > span\n",
    "result1 = driver.find_elements_by_css_selector(\"div.yuRUbf\")\n",
    "print(len(result1))\n",
    "result1"
   ]
  },
  {
   "cell_type": "code",
   "execution_count": 11,
   "metadata": {},
   "outputs": [
    {
     "name": "stdout",
     "output_type": "stream",
     "text": [
      "<a href=\"https://fa.wikipedia.org/wiki/%D8%B9%D9%84%D9%85_%D8%AF%D8%A7%D8%AF%D9%87%E2%80%8C%D9%87%D8%A7\" data-ved=\"2ahUKEwjX6ZC3uNn3AhWauKQKHVsTAa0QFnoECAcQAQ\" ping=\"/url?sa=t&amp;source=web&amp;rct=j&amp;url=https://fa.wikipedia.org/wiki/%25D8%25B9%25D9%2584%25D9%2585_%25D8%25AF%25D8%25A7%25D8%25AF%25D9%2587%25E2%2580%258C%25D9%2587%25D8%25A7&amp;ved=2ahUKEwjX6ZC3uNn3AhWauKQKHVsTAa0QFnoECAcQAQ\"><br><h3 class=\"LC20lb MBeuO DKV0Md\"><span dir=\"rtl\">علم داده‌ها - ویکی‌پدیا، دانشنامهٔ آزاد</span></h3><img name=\"kl_1652340479184\" width=\"16\" height=\"16\" style=\"width: 16px !important; height: 16px !important;\" src=\"data:image/png;base64,iVBORw0KGgoAAAANSUhEUgAAABAAAAAQCAYAAAAf8/9hAAAACXBIWXMAAAsSAAALEgHS3X78AAAB3ElEQVQ4jY2TPWhTURTH/+e8l7QNJg0qCJpCSdEnONTFDk5udfILs9mS6iJYpI4VnURXUcRJrFG3gm3tXLpIxaUUIVA/iLRJayQ2Nk1q7cu99zjUF/JhQv7jOff/O+fcwyERAQAQEaoVjsdOirgP93L+W5svJpeq8xVfPWD/yPkepekBWbjETl8nM0h9XtkRV72xLbmdn5hJ/xdw4OaVkC6U7oBwg6MRH0d7fGTbQDoLIYKUXa2/rO5C6SdWOHh/4/HrLQCwvZZUoZi2Dh/ysdPbRZ0dNeOQCMj2WXTiaMCUtsdUKn0dQHcNAEZCVr+DViJjYAW6/NqI34txS0eVIqEwRgfONMTbApyORDE3PIbF9dX2AKPHTyESCFbMExeGMTL9EguZVHuAxY3vmBscwtkjfS3NTQELuQzi72bwaGAQ8elEUzNQtQUiLsmf3X3eCt/n1uBMPQUy2bqSDCIuNXQgjHnJ5kzTUt47rUQY8w0AG2ZcLX/bkc2t5m5mlJdTv22Y8QZAPjGbBPHl8oePRb2yruu9BjBu8msRGrF8YjZZGb3+mA5ePee4ip9xoKOfj/UGSRuYtR/b+ldxyW/paz+fv/0EtLhGT91DF2NgubtXnu4VXk1N1vzFP99f037PUFbu4yIAAAAASUVORK5CYII=\"><div class=\"TbwUpd NJjxre\"><cite class=\"iUh30 qLRx3b tjvcx\" role=\"text\">https://fa.wikipedia.org<span class=\"dyjrff qzEoUe\" role=\"text\"> › wiki › <span dir=\"rtl\">علم_...</span></span></cite></div></a><div class=\"B6fmyf\"><div class=\"TbwUpd\"><cite class=\"iUh30 qLRx3b tjvcx\" role=\"text\">https://fa.wikipedia.org<span class=\"dyjrff qzEoUe\" role=\"text\"> › wiki › <span dir=\"rtl\">علم_...</span></span></cite></div><div class=\"eFM0qc\"><span class=\"LAWljd\"> · </span><a class=\"fl iUh30\" href=\"https://translate.google.com/translate?hl=en&amp;sl=fa&amp;u=https://fa.wikipedia.org/wiki/%25D8%25B9%25D9%2584%25D9%2585_%25D8%25AF%25D8%25A7%25D8%25AF%25D9%2587%25E2%2580%258C%25D9%2587%25D8%25A7&amp;prev=search&amp;pto=aue\" ping=\"/url?sa=t&amp;source=web&amp;rct=j&amp;url=https://translate.google.com/translate%3Fhl%3Den%26sl%3Dfa%26u%3Dhttps://fa.wikipedia.org/wiki/%2525D8%2525B9%2525D9%252584%2525D9%252585_%2525D8%2525AF%2525D8%2525A7%2525D8%2525AF%2525D9%252587%2525E2%252580%25258C%2525D9%252587%2525D8%2525A7%26prev%3Dsearch%26pto%3Daue&amp;ved=2ahUKEwjX6ZC3uNn3AhWauKQKHVsTAa0Q7gF6BAgHEAU\"><span>Translate this page</span></a></div><div class=\"csDOgf\"><div jscontroller=\"exgaYe\" data-isdesktop=\"true\" jsdata=\"l7Bhpb;_;BWIxAM\" data-ved=\"2ahUKEwjX6ZC3uNn3AhWauKQKHVsTAa0Q2esEegQIBxAG\"><div jsaction=\"KyPa0e:RvIhPd;wjOG7e:edHC5b;al5F3e:edHC5b;\"><div role=\"button\" tabindex=\"0\" jsaction=\"RvIhPd\" jsname=\"I3kE2c\" class=\"iTPLzd GUHazd lUn2nc eY4mx\" style=\"padding-bottom:20px;padding-right:5px;position:absolute\" aria-label=\"About this Result\"><span jsname=\"czHhOd\" class=\"D6lY4c\"><span jsname=\"Bil8Ae\" class=\"xTFaxe IjabWd z1asCe SaPW2b\" style=\"height:18px;line-height:18px;width:18px\"><svg focusable=\"false\" xmlns=\"http://www.w3.org/2000/svg\" viewBox=\"0 0 24 24\"><path d=\"M12 8c1.1 0 2-.9 2-2s-.9-2-2-2-2 .9-2 2 .9 2 2 2zm0 2c-1.1 0-2 .9-2 2s.9 2 2 2 2-.9 2-2-.9-2-2-2zm0 6c-1.1 0-2 .9-2 2s.9 2 2 2 2-.9 2-2-.9-2-2-2z\"></path></svg></span></span></div><span jsname=\"zOVa8\" jsmodel=\"QaFSEb\" jsdata=\"l7Bhpb;_;BWIxAc cECq7c;_;BWIxAo\" data-ved=\"2ahUKEwjX6ZC3uNn3AhWauKQKHVsTAa0Qh-4GegQIBxAH\"></span></div></div></div></div>\n"
     ]
    }
   ],
   "source": [
    "html = result1[1].get_attribute(\"innerHTML\")\n",
    "\n",
    "print(html)"
   ]
  },
  {
   "cell_type": "code",
   "execution_count": 13,
   "metadata": {},
   "outputs": [
    {
     "name": "stdout",
     "output_type": "stream",
     "text": [
      "علم داده (Data Science) چیست و چه کاربردهایی دارد؟ - سحاب\n",
      "https://www.sahab.ir › insights › wha...\n",
      "· Translate this page \n",
      "\n",
      "علم داده‌ها - ویکی‌پدیا، دانشنامهٔ آزاد\n",
      "https://fa.wikipedia.org › wiki › علم_...\n",
      "· Translate this page \n",
      "\n",
      "علم داده چیست | کاربردهای رشته دیتا ساینس - متمم\n",
      "https://motamem.org › علم-داده-چیست\n",
      "· Translate this page \n",
      "\n",
      "علم داده چیست؟ - مجله فرادرس\n",
      "https://blog.faradars.org › علم-داده-چی...\n",
      "· Translate this page \n",
      "\n",
      "علم داده چیست و متخصصین علوم داده چه کاری انجام می‌دهند؟ - همیار ...\n",
      "https://www.hamyarit.com › basic\n",
      "· Translate this page \n",
      "\n",
      "علم داده چیست؟ Data Science و Data Mining چه تفاوتی دارند؟\n",
      "https://www.irandnn.ir › mag › what-...\n",
      "· Translate this page \n",
      "\n",
      "علم داده | دیتاساینس - مکتب خونه\n",
      "https://maktabkhooneh.org › learn\n",
      "· Translate this page \n",
      "\n",
      "علم داده (Data Science) چیست و چه کاربردهایی دارد؟ - کافه تدریس\n",
      "http://cafetadris.com › blog › علم-داده...\n",
      "· Translate this page \n",
      "\n",
      "دوره جامع یادگیری علم داده (Data Science) | کافه‌تدریس\n",
      "https://cafetadris.com › datascience\n",
      "· Translate this page \n",
      "\n",
      "علم داده‌ها (Data Science) چیست و متخصص علم داده (Data Scientist ...\n",
      "https://pastishow.ir › data-science‌-dat...\n",
      "· Translate this page \n",
      "\n",
      "How Much Math Do You Need to Become a Data Scientist?\n",
      "https://flatironschool.com › blog › how-much-math-do-y... \n",
      "\n",
      " \n",
      "\n",
      " \n",
      "\n",
      " \n",
      "\n"
     ]
    }
   ],
   "source": [
    "for i in result1:\n",
    "    print(i.text,\"\\n\")"
   ]
  },
  {
   "cell_type": "markdown",
   "metadata": {},
   "source": [
    "## Find Link"
   ]
  },
  {
   "cell_type": "code",
   "execution_count": 16,
   "metadata": {},
   "outputs": [
    {
     "name": "stdout",
     "output_type": "stream",
     "text": [
      "https://pastishow.ir/data-science%E2%80%8C-data-scientist/\n"
     ]
    }
   ],
   "source": [
    "#rso > div:nth-child(1) > div > div > div.yuRUbf > a\n",
    "\n",
    "link = result1[9].find_element_by_css_selector(\"a\")\n",
    "\n",
    "print(link.get_attribute(\"href\"))"
   ]
  },
  {
   "cell_type": "markdown",
   "metadata": {},
   "source": [
    "## Find Tittle"
   ]
  },
  {
   "cell_type": "code",
   "execution_count": 20,
   "metadata": {},
   "outputs": [
    {
     "name": "stdout",
     "output_type": "stream",
     "text": [
      "علم داده‌ها (Data Science) چیست و متخصص علم داده (Data Scientist ...\n"
     ]
    }
   ],
   "source": [
    "Tittle = result1[9].find_element_by_css_selector(\"a > h3 > span\").text\n",
    "\n",
    "print(Tittle)"
   ]
  },
  {
   "cell_type": "code",
   "execution_count": 24,
   "metadata": {},
   "outputs": [
    {
     "name": "stdout",
     "output_type": "stream",
     "text": [
      "1\n",
      "2\n",
      "3\n",
      "4\n",
      "5\n",
      "6\n",
      "7\n",
      "8\n",
      "9\n",
      "10\n",
      "11\n",
      "12\n",
      "13\n",
      "14\n",
      "14\n"
     ]
    },
    {
     "data": {
      "text/plain": [
       "['علم داده (Data Science) چیست و چه کاربردهایی دارد؟ - سحاب',\n",
       " 'علم داده\\u200cها - ویکی\\u200cپدیا، دانشنامهٔ آزاد',\n",
       " 'علم داده چیست | کاربردهای رشته دیتا ساینس - متمم',\n",
       " 'علم داده چیست؟ - مجله فرادرس',\n",
       " 'علم داده چیست و متخصصین علوم داده چه کاری انجام می\\u200cدهند؟ - همیار ...',\n",
       " 'علم داده چیست؟ Data Science و Data Mining چه تفاوتی دارند؟',\n",
       " 'علم داده | دیتاساینس - مکتب خونه',\n",
       " 'علم داده (Data Science) چیست و چه کاربردهایی دارد؟ - کافه تدریس',\n",
       " 'دوره جامع یادگیری علم داده (Data Science) | کافه\\u200cتدریس',\n",
       " 'علم داده\\u200cها (Data Science) چیست و متخصص علم داده (Data Scientist ...',\n",
       " 'How Much Math Do You Need to Become a Data Scientist?',\n",
       " '',\n",
       " '',\n",
       " '']"
      ]
     },
     "execution_count": 24,
     "metadata": {},
     "output_type": "execute_result"
    }
   ],
   "source": [
    "Tittlelist = []\n",
    "xx = 1\n",
    "for link in result1:\n",
    "    try:\n",
    "        print(xx)\n",
    "        Tittlelist.append(link.find_element_by_css_selector(\"a > h3 > span\").text)\n",
    "    except:\n",
    "        Tittlelist.append(link.find_element_by_css_selector(\"a > h3\").text)\n",
    "    xx +=1\n",
    "print(len(Tittlelist))   \n",
    "Tittlelist"
   ]
  },
  {
   "cell_type": "markdown",
   "metadata": {},
   "source": [
    "## Find Description"
   ]
  },
  {
   "cell_type": "code",
   "execution_count": 32,
   "metadata": {
    "scrolled": true
   },
   "outputs": [
    {
     "name": "stdout",
     "output_type": "stream",
     "text": [
      "Esfand 17, 1400 AP —\n"
     ]
    }
   ],
   "source": [
    "#rso > div:nth-child(1) > div > div.NJo7tc.Z26q7c.uUuwM > div > span:nth-child(2)\n",
    "result2 = driver.find_elements_by_css_selector(\"div.NJo7tc.Z26q7c.uUuwM\")\n",
    "\n",
    "Desc = result2[5].find_element_by_css_selector(\"span\")\n",
    "\n",
    "print(Desc.text)"
   ]
  },
  {
   "cell_type": "code",
   "execution_count": 33,
   "metadata": {},
   "outputs": [
    {
     "name": "stdout",
     "output_type": "stream",
     "text": [
      "10\n"
     ]
    },
    {
     "data": {
      "text/plain": [
       "['Tir 19, 1400 AP —',\n",
       " 'متخصص علم داده دانشی کاربردی از داده\\u200cها و ابزارها دارد به علاوه درک تئوریکی دارد که مشخص می\\u200cکند چه چیزی از نظر علمی ممکن است. Data Science ...',\n",
       " 'بسیاری از ما شنیده\\u200cایم که علم داده (Data Science) علمِ دنیای فرداست و متخصصان علم داده به سرعت توسط کسب و کارها جذب می\\u200cشوند؛ اما شاید فرصتی پیش نیامده باشد ...',\n",
       " '«علم داده» (data science)، یک زمینه میان رشته\\u200cای است که از روش\\u200cها، فرآیندها، الگوریتم\\u200cها و سیستم\\u200cهای علمی برای استخراج دانش و بینش از داده\\u200cها در اشکال ...',\n",
       " 'علم داده\\u200c یا دیتا ساینس (Data Science) یکی از مباحث روز دنیا است که با استفاده از کامپیوتر و فناوری اطلاعات شکل گرفته است. این حوزه اساسا متکی به علم ...',\n",
       " 'Esfand 17, 1400 AP —',\n",
       " 'این علم ترکیبی از ابزارهای مختلف، الگوریتم\\u200cها و اصول یادگیری ماشین است. هدف علم داده را می\\u200cتوان استخراج معنا و مفهوم داده\\u200cها و همچنین تولید محصولات داده\\u200cمحور از ...',\n",
       " 'علم داده (Data Science) حوزه مطالعاتی است که با به\\u200cکارگیری ابزارها و تکنیک\\u200cهای مدرن حجم گسترده\\u200cای از داده\\u200cها را برای یافتن الگوهای پنهان در داده\\u200cها، استخراج ...',\n",
       " 'آموزش صفر تا صد علم داده; کلاس\\u200cهای آنلاین تعاملی; وبینارهای رایگان مسیر شغلی; ارائه پروژه و رفع اشکال; دسترسی به ویدئوی ضبط\\u200cشده کلاس ...',\n",
       " 'علم داده مفهومی برای یکپارچه\\u200cسازی آمار، تحلیل داده، یادگیری ماشین و دیگر مفاهیم مرتبط تحت یک عنوان واحد است. این کار به منظور درک و تحلیل پدیده\\u200cها با استفاده از ...']"
      ]
     },
     "execution_count": 33,
     "metadata": {},
     "output_type": "execute_result"
    }
   ],
   "source": [
    "DescList = []\n",
    "result2 = driver.find_elements_by_css_selector(\"div.NJo7tc.Z26q7c.uUuwM\")\n",
    "for link in result2:\n",
    "    try:\n",
    "        DescList.append(link.find_element_by_css_selector(\"span\").text)\n",
    "    except:\n",
    "        \"error\"\n",
    "\n",
    "print(len(DescList))   \n",
    "DescList"
   ]
  },
  {
   "cell_type": "markdown",
   "metadata": {},
   "source": [
    "## Find All Link in a Page"
   ]
  },
  {
   "cell_type": "code",
   "execution_count": 34,
   "metadata": {},
   "outputs": [
    {
     "name": "stdout",
     "output_type": "stream",
     "text": [
      "14\n"
     ]
    },
    {
     "data": {
      "text/plain": [
       "['https://www.sahab.ir/insights/what-is-data-science/',\n",
       " 'https://fa.wikipedia.org/wiki/%D8%B9%D9%84%D9%85_%D8%AF%D8%A7%D8%AF%D9%87%E2%80%8C%D9%87%D8%A7',\n",
       " 'https://motamem.org/%D8%B9%D9%84%D9%85-%D8%AF%D8%A7%D8%AF%D9%87-%DA%86%DB%8C%D8%B3%D8%AA/',\n",
       " 'https://blog.faradars.org/%D8%B9%D9%84%D9%85-%D8%AF%D8%A7%D8%AF%D9%87-%DA%86%DB%8C%D8%B3%D8%AA%D8%9F/',\n",
       " 'https://www.hamyarit.com/basic/data-science/',\n",
       " 'https://www.irandnn.ir/mag/what-is-data-science/',\n",
       " 'https://maktabkhooneh.org/learn/%D8%B9%D9%84%D9%85-%D8%AF%D8%A7%D8%AF%D9%87-mk232/',\n",
       " 'http://cafetadris.com/blog/%D8%B9%D9%84%D9%85-%D8%AF%D8%A7%D8%AF%D9%87-data-science/',\n",
       " 'https://cafetadris.com/datascience',\n",
       " 'https://pastishow.ir/data-science%E2%80%8C-data-scientist/',\n",
       " 'https://flatironschool.com/blog/how-much-math-do-you-need-to-become-a-data-scientist/',\n",
       " 'https://www.indiatoday.in/education-today/jobs-and-careers/story/career-outlook-for-data-scientists-in-india-sky-high-pay-and-rising-demand-1825991-2021-07-09',\n",
       " 'https://www.betterteam.com/data-scientist-cover-letter',\n",
       " 'https://www.jigsawacademy.com/blogs/data-science/types-of-data-scientists/']"
      ]
     },
     "execution_count": 34,
     "metadata": {},
     "output_type": "execute_result"
    }
   ],
   "source": [
    "#rso > div:nth-child(3) > div > div > div.yuRUbf > a\n",
    "Linklist = []\n",
    "for link in result1:\n",
    "    Linklist.append(link.find_element_by_css_selector(\"div.yuRUbf > a\").get_attribute('href'))\n",
    "\n",
    "print(len(Linklist))\n",
    "Linklist"
   ]
  },
  {
   "cell_type": "markdown",
   "metadata": {},
   "source": [
    "## Get All Items"
   ]
  },
  {
   "cell_type": "code",
   "execution_count": 35,
   "metadata": {
    "collapsed": true
   },
   "outputs": [],
   "source": [
    "from selenium import webdriver\n",
    "\n",
    "Listnews = []\n",
    "driver = webdriver.Chrome(executable_path=r\"D:\\chromedriver.exe\")\n",
    "\n",
    "driver.get(\"https://www.google.com/\")\n",
    "\n",
    "search = driver.find_element_by_css_selector(\"body > div.L3eUgb > div.o3j99.ikrT4e.om7nvf > form > div:nth-child(1) > div.A8SBwf > div.RNNXgb > div > div.a4bIc > input\")\n",
    "search.send_keys(\"علم داده\")\n",
    "search.submit()\n",
    "\n",
    "result1 = driver.find_elements_by_css_selector(\"div.yuRUbf\")\n",
    "result2 = driver.find_elements_by_css_selector(\"div.NJo7tc.Z26q7c.uUuwM\")\n",
    "\n",
    "for i in range(len(result1)):\n",
    "    try:\n",
    "        link = result1[i].find_element_by_css_selector(\"div.yuRUbf > a\").get_attribute('href') \n",
    "        title = result1[i].find_element_by_css_selector(\"a > h3 > span\").text \n",
    "        description = result2[i].find_element_by_css_selector(\"span\").text \n",
    "        Listnews.append([title,link,description])\n",
    "    except:\n",
    "        pass"
   ]
  },
  {
   "cell_type": "code",
   "execution_count": 36,
   "metadata": {
    "scrolled": true
   },
   "outputs": [
    {
     "data": {
      "text/html": [
       "<div>\n",
       "<style scoped>\n",
       "    .dataframe tbody tr th:only-of-type {\n",
       "        vertical-align: middle;\n",
       "    }\n",
       "\n",
       "    .dataframe tbody tr th {\n",
       "        vertical-align: top;\n",
       "    }\n",
       "\n",
       "    .dataframe thead th {\n",
       "        text-align: right;\n",
       "    }\n",
       "</style>\n",
       "<table border=\"1\" class=\"dataframe\">\n",
       "  <thead>\n",
       "    <tr style=\"text-align: right;\">\n",
       "      <th></th>\n",
       "      <th>Text</th>\n",
       "      <th>Link</th>\n",
       "      <th>Desc</th>\n",
       "    </tr>\n",
       "  </thead>\n",
       "  <tbody>\n",
       "    <tr>\n",
       "      <th>0</th>\n",
       "      <td>علم داده (Data Science) چیست و چه کاربردهایی د...</td>\n",
       "      <td>https://www.sahab.ir/insights/what-is-data-sci...</td>\n",
       "      <td>Tir 19, 1400 AP —</td>\n",
       "    </tr>\n",
       "    <tr>\n",
       "      <th>1</th>\n",
       "      <td>علم داده‌ها - ویکی‌پدیا، دانشنامهٔ آزاد</td>\n",
       "      <td>https://fa.wikipedia.org/wiki/%D8%B9%D9%84%D9%...</td>\n",
       "      <td>متخصص علم داده دانشی کاربردی از داده‌ها و ابزا...</td>\n",
       "    </tr>\n",
       "    <tr>\n",
       "      <th>2</th>\n",
       "      <td>علم داده چیست | کاربردهای رشته دیتا ساینس - متمم</td>\n",
       "      <td>https://motamem.org/%D8%B9%D9%84%D9%85-%D8%AF%...</td>\n",
       "      <td>بسیاری از ما شنیده‌ایم که علم داده (Data Scien...</td>\n",
       "    </tr>\n",
       "    <tr>\n",
       "      <th>3</th>\n",
       "      <td>علم داده چیست؟ - مجله فرادرس</td>\n",
       "      <td>https://blog.faradars.org/%D8%B9%D9%84%D9%85-%...</td>\n",
       "      <td>«علم داده» (data science)، یک زمینه میان رشته‌...</td>\n",
       "    </tr>\n",
       "    <tr>\n",
       "      <th>4</th>\n",
       "      <td>علم داده چیست و متخصصین علوم داده چه کاری انجا...</td>\n",
       "      <td>https://www.hamyarit.com/basic/data-science/</td>\n",
       "      <td>علم داده‌ یا دیتا ساینس (Data Science) یکی از ...</td>\n",
       "    </tr>\n",
       "    <tr>\n",
       "      <th>5</th>\n",
       "      <td>علم داده چیست؟ Data Science و Data Mining چه ت...</td>\n",
       "      <td>https://www.irandnn.ir/mag/what-is-data-science/</td>\n",
       "      <td>Esfand 17, 1400 AP —</td>\n",
       "    </tr>\n",
       "    <tr>\n",
       "      <th>6</th>\n",
       "      <td>علم داده | دیتاساینس - مکتب خونه</td>\n",
       "      <td>https://maktabkhooneh.org/learn/%D8%B9%D9%84%D...</td>\n",
       "      <td>این علم ترکیبی از ابزارهای مختلف، الگوریتم‌ها ...</td>\n",
       "    </tr>\n",
       "    <tr>\n",
       "      <th>7</th>\n",
       "      <td>علم داده (Data Science) چیست و چه کاربردهایی د...</td>\n",
       "      <td>http://cafetadris.com/blog/%D8%B9%D9%84%D9%85-...</td>\n",
       "      <td>علم داده (Data Science) حوزه مطالعاتی است که ب...</td>\n",
       "    </tr>\n",
       "    <tr>\n",
       "      <th>8</th>\n",
       "      <td>دوره جامع یادگیری علم داده (Data Science) | کا...</td>\n",
       "      <td>https://cafetadris.com/datascience</td>\n",
       "      <td>آموزش صفر تا صد علم داده; کلاس‌های آنلاین تعام...</td>\n",
       "    </tr>\n",
       "    <tr>\n",
       "      <th>9</th>\n",
       "      <td>علم داده‌ها (Data Science) چیست و متخصص علم دا...</td>\n",
       "      <td>https://pastishow.ir/data-science%E2%80%8C-dat...</td>\n",
       "      <td>علم داده مفهومی برای یکپارچه‌سازی آمار، تحلیل ...</td>\n",
       "    </tr>\n",
       "  </tbody>\n",
       "</table>\n",
       "</div>"
      ],
      "text/plain": [
       "                                                Text  \\\n",
       "0  علم داده (Data Science) چیست و چه کاربردهایی د...   \n",
       "1            علم داده‌ها - ویکی‌پدیا، دانشنامهٔ آزاد   \n",
       "2   علم داده چیست | کاربردهای رشته دیتا ساینس - متمم   \n",
       "3                       علم داده چیست؟ - مجله فرادرس   \n",
       "4  علم داده چیست و متخصصین علوم داده چه کاری انجا...   \n",
       "5  علم داده چیست؟ Data Science و Data Mining چه ت...   \n",
       "6                   علم داده | دیتاساینس - مکتب خونه   \n",
       "7  علم داده (Data Science) چیست و چه کاربردهایی د...   \n",
       "8  دوره جامع یادگیری علم داده (Data Science) | کا...   \n",
       "9  علم داده‌ها (Data Science) چیست و متخصص علم دا...   \n",
       "\n",
       "                                                Link  \\\n",
       "0  https://www.sahab.ir/insights/what-is-data-sci...   \n",
       "1  https://fa.wikipedia.org/wiki/%D8%B9%D9%84%D9%...   \n",
       "2  https://motamem.org/%D8%B9%D9%84%D9%85-%D8%AF%...   \n",
       "3  https://blog.faradars.org/%D8%B9%D9%84%D9%85-%...   \n",
       "4       https://www.hamyarit.com/basic/data-science/   \n",
       "5   https://www.irandnn.ir/mag/what-is-data-science/   \n",
       "6  https://maktabkhooneh.org/learn/%D8%B9%D9%84%D...   \n",
       "7  http://cafetadris.com/blog/%D8%B9%D9%84%D9%85-...   \n",
       "8                 https://cafetadris.com/datascience   \n",
       "9  https://pastishow.ir/data-science%E2%80%8C-dat...   \n",
       "\n",
       "                                                Desc  \n",
       "0                                  Tir 19, 1400 AP —  \n",
       "1  متخصص علم داده دانشی کاربردی از داده‌ها و ابزا...  \n",
       "2  بسیاری از ما شنیده‌ایم که علم داده (Data Scien...  \n",
       "3  «علم داده» (data science)، یک زمینه میان رشته‌...  \n",
       "4  علم داده‌ یا دیتا ساینس (Data Science) یکی از ...  \n",
       "5                               Esfand 17, 1400 AP —  \n",
       "6  این علم ترکیبی از ابزارهای مختلف، الگوریتم‌ها ...  \n",
       "7  علم داده (Data Science) حوزه مطالعاتی است که ب...  \n",
       "8  آموزش صفر تا صد علم داده; کلاس‌های آنلاین تعام...  \n",
       "9  علم داده مفهومی برای یکپارچه‌سازی آمار، تحلیل ...  "
      ]
     },
     "execution_count": 36,
     "metadata": {},
     "output_type": "execute_result"
    }
   ],
   "source": [
    "import pandas as pd\n",
    "from pandas import DataFrame\n",
    "\n",
    "df = DataFrame(Listnews,columns=['Text','Link',\"Desc\"])\n",
    "df"
   ]
  },
  {
   "cell_type": "markdown",
   "metadata": {},
   "source": [
    "## Get Page link"
   ]
  },
  {
   "cell_type": "code",
   "execution_count": 37,
   "metadata": {
    "collapsed": true
   },
   "outputs": [],
   "source": [
    "pages = driver.find_elements_by_css_selector(\"#xjs > table > tbody > tr > td > a\")\n"
   ]
  },
  {
   "cell_type": "code",
   "execution_count": 38,
   "metadata": {},
   "outputs": [
    {
     "data": {
      "text/plain": [
       "10"
      ]
     },
     "execution_count": 38,
     "metadata": {},
     "output_type": "execute_result"
    }
   ],
   "source": [
    "len(pages)"
   ]
  },
  {
   "cell_type": "code",
   "execution_count": 39,
   "metadata": {},
   "outputs": [
    {
     "name": "stdout",
     "output_type": "stream",
     "text": [
      "2\n",
      "3\n",
      "4\n",
      "5\n",
      "6\n",
      "7\n",
      "8\n",
      "9\n",
      "10\n",
      "Next\n"
     ]
    }
   ],
   "source": [
    "for i in pages:\n",
    "    print(i.text)"
   ]
  },
  {
   "cell_type": "code",
   "execution_count": 40,
   "metadata": {},
   "outputs": [
    {
     "name": "stdout",
     "output_type": "stream",
     "text": [
      "https://www.google.com/search?q=%D8%B9%D9%84%D9%85+%D8%AF%D8%A7%D8%AF%D9%87&ei=hrx8YqnHMM6W9u8P0tal2AE&start=10&sa=N&ved=2ahUKEwipor-dvdn3AhVOi_0HHVJrCRsQ8tMDegQIAhA1\n",
      "https://www.google.com/search?q=%D8%B9%D9%84%D9%85+%D8%AF%D8%A7%D8%AF%D9%87&ei=hrx8YqnHMM6W9u8P0tal2AE&start=20&sa=N&ved=2ahUKEwipor-dvdn3AhVOi_0HHVJrCRsQ8tMDegQIAhA3\n",
      "https://www.google.com/search?q=%D8%B9%D9%84%D9%85+%D8%AF%D8%A7%D8%AF%D9%87&ei=hrx8YqnHMM6W9u8P0tal2AE&start=30&sa=N&ved=2ahUKEwipor-dvdn3AhVOi_0HHVJrCRsQ8tMDegQIAhA5\n",
      "https://www.google.com/search?q=%D8%B9%D9%84%D9%85+%D8%AF%D8%A7%D8%AF%D9%87&ei=hrx8YqnHMM6W9u8P0tal2AE&start=40&sa=N&ved=2ahUKEwipor-dvdn3AhVOi_0HHVJrCRsQ8tMDegQIAhA7\n",
      "https://www.google.com/search?q=%D8%B9%D9%84%D9%85+%D8%AF%D8%A7%D8%AF%D9%87&ei=hrx8YqnHMM6W9u8P0tal2AE&start=50&sa=N&ved=2ahUKEwipor-dvdn3AhVOi_0HHVJrCRsQ8tMDegQIAhA9\n",
      "https://www.google.com/search?q=%D8%B9%D9%84%D9%85+%D8%AF%D8%A7%D8%AF%D9%87&ei=hrx8YqnHMM6W9u8P0tal2AE&start=60&sa=N&ved=2ahUKEwipor-dvdn3AhVOi_0HHVJrCRsQ8tMDegQIAhA_\n",
      "https://www.google.com/search?q=%D8%B9%D9%84%D9%85+%D8%AF%D8%A7%D8%AF%D9%87&ei=hrx8YqnHMM6W9u8P0tal2AE&start=70&sa=N&ved=2ahUKEwipor-dvdn3AhVOi_0HHVJrCRsQ8tMDegQIAhBB\n",
      "https://www.google.com/search?q=%D8%B9%D9%84%D9%85+%D8%AF%D8%A7%D8%AF%D9%87&ei=hrx8YqnHMM6W9u8P0tal2AE&start=80&sa=N&ved=2ahUKEwipor-dvdn3AhVOi_0HHVJrCRsQ8tMDegQIAhBD\n",
      "https://www.google.com/search?q=%D8%B9%D9%84%D9%85+%D8%AF%D8%A7%D8%AF%D9%87&ei=hrx8YqnHMM6W9u8P0tal2AE&start=90&sa=N&ved=2ahUKEwipor-dvdn3AhVOi_0HHVJrCRsQ8tMDegQIAhBF\n",
      "https://www.google.com/search?q=%D8%B9%D9%84%D9%85+%D8%AF%D8%A7%D8%AF%D9%87&ei=hrx8YqnHMM6W9u8P0tal2AE&start=10&sa=N&ved=2ahUKEwipor-dvdn3AhVOi_0HHVJrCRsQ8NMDegQIAhBH\n"
     ]
    }
   ],
   "source": [
    "for i in pages:\n",
    "    print(i.get_attribute(\"href\"))"
   ]
  },
  {
   "cell_type": "code",
   "execution_count": 41,
   "metadata": {
    "collapsed": true
   },
   "outputs": [],
   "source": [
    "pages = pages[:-1]"
   ]
  },
  {
   "cell_type": "code",
   "execution_count": 42,
   "metadata": {},
   "outputs": [
    {
     "name": "stdout",
     "output_type": "stream",
     "text": [
      "2\n",
      "3\n",
      "4\n",
      "5\n",
      "6\n",
      "7\n",
      "8\n",
      "9\n",
      "10\n"
     ]
    }
   ],
   "source": [
    "for i in pages:\n",
    "    print(i.text)"
   ]
  },
  {
   "cell_type": "code",
   "execution_count": 43,
   "metadata": {},
   "outputs": [
    {
     "name": "stdout",
     "output_type": "stream",
     "text": [
      "OK\n",
      "OK\n",
      "OK\n",
      "OK\n",
      "OK\n",
      "OK\n",
      "OK\n",
      "OK\n",
      "eroor\n",
      "OK\n",
      "eroor\n",
      "OK\n",
      "OK\n",
      "OK\n",
      "OK\n",
      "OK\n",
      "OK\n",
      "OK\n",
      "OK\n",
      "OK\n",
      "OK\n",
      "OK\n",
      "OK\n",
      "OK\n",
      "OK\n",
      "OK\n",
      "OK\n",
      "OK\n",
      "OK\n",
      "OK\n",
      "OK\n",
      "OK\n",
      "OK\n",
      "OK\n",
      "OK\n",
      "OK\n",
      "OK\n",
      "OK\n",
      "eroor\n",
      "OK\n",
      "OK\n",
      "OK\n",
      "OK\n",
      "OK\n",
      "OK\n",
      "OK\n",
      "OK\n",
      "OK\n",
      "OK\n",
      "OK\n",
      "OK\n",
      "OK\n",
      "OK\n",
      "OK\n",
      "OK\n",
      "OK\n",
      "OK\n",
      "OK\n",
      "eroor\n",
      "OK\n",
      "OK\n",
      "OK\n",
      "OK\n",
      "OK\n",
      "OK\n",
      "OK\n",
      "OK\n",
      "OK\n",
      "OK\n",
      "OK\n",
      "OK\n",
      "OK\n",
      "OK\n",
      "OK\n",
      "OK\n",
      "OK\n",
      "OK\n",
      "eroor\n",
      "OK\n",
      "OK\n",
      "OK\n",
      "OK\n",
      "OK\n",
      "OK\n",
      "OK\n",
      "OK\n",
      "OK\n",
      "OK\n"
     ]
    }
   ],
   "source": [
    "from selenium import webdriver\n",
    "\n",
    "Listnews10page = []\n",
    "driver = webdriver.Chrome(executable_path=r\"D:\\chromedriver.exe\")\n",
    "\n",
    "driver.get(\"https://www.google.com/\")\n",
    "\n",
    "search = driver.find_element_by_css_selector(\"body > div.L3eUgb > div.o3j99.ikrT4e.om7nvf > form > div:nth-child(1) > div.A8SBwf > div.RNNXgb > div > div.a4bIc > input\")\n",
    "search.send_keys(\"علم داده\")\n",
    "search.submit()\n",
    "\n",
    "result1 = driver.find_elements_by_css_selector(\"div.yuRUbf\")\n",
    "result2 = driver.find_elements_by_css_selector(\"div.NJo7tc.Z26q7c.uUuwM\")\n",
    "\n",
    "for i in range(len(result1)):\n",
    "    try:\n",
    "        link = result1[i].find_element_by_css_selector(\"a\").get_attribute('href') \n",
    "        title = result1[i].find_element_by_css_selector(\"a > h3 > span\").text \n",
    "        description = result2[i].find_element_by_css_selector(\"span > span\").text \n",
    "        Listnews10page.append([title,link,description])\n",
    "    except:\n",
    "        pass\n",
    "    \n",
    "\n",
    "pages = driver.find_elements_by_css_selector(\"#xjs > table > tbody > tr > td > a\")\n",
    "pages = pages[:-1]\n",
    "\n",
    "pages_links = [tag.get_attribute(\"href\") for tag in pages]\n",
    "\n",
    "for link in pages_links:\n",
    "    driver.get(link)\n",
    "    result1 = driver.find_elements_by_css_selector(\"div.yuRUbf\")\n",
    "    result2 = driver.find_elements_by_css_selector(\"div.NJo7tc.Z26q7c.uUuwM\")\n",
    "    for i in range(len(result1)):\n",
    "        try:\n",
    "            link = result1[i].find_element_by_css_selector(\"div.yuRUbf > a\").get_attribute('href') \n",
    "            title = result1[i].find_element_by_css_selector(\"a > h3 > span\").text \n",
    "            description = result2[i].find_element_by_css_selector(\"span\").text \n",
    "            Listnews10page.append([title,link,description])\n",
    "            print(\"OK\")\n",
    "        except:\n",
    "            print(\"eroor\")"
   ]
  },
  {
   "cell_type": "code",
   "execution_count": 44,
   "metadata": {},
   "outputs": [
    {
     "data": {
      "text/html": [
       "<div>\n",
       "<style scoped>\n",
       "    .dataframe tbody tr th:only-of-type {\n",
       "        vertical-align: middle;\n",
       "    }\n",
       "\n",
       "    .dataframe tbody tr th {\n",
       "        vertical-align: top;\n",
       "    }\n",
       "\n",
       "    .dataframe thead th {\n",
       "        text-align: right;\n",
       "    }\n",
       "</style>\n",
       "<table border=\"1\" class=\"dataframe\">\n",
       "  <thead>\n",
       "    <tr style=\"text-align: right;\">\n",
       "      <th></th>\n",
       "      <th>Text</th>\n",
       "      <th>Link</th>\n",
       "      <th>Desc</th>\n",
       "    </tr>\n",
       "  </thead>\n",
       "  <tbody>\n",
       "    <tr>\n",
       "      <th>0</th>\n",
       "      <td>علم داده (Data Science) چیست و چه کاربردهایی د...</td>\n",
       "      <td>https://www.sahab.ir/insights/what-is-data-sci...</td>\n",
       "      <td>Tir 19, 1400 AP</td>\n",
       "    </tr>\n",
       "    <tr>\n",
       "      <th>1</th>\n",
       "      <td>علم داده‌ها - ویکی‌پدیا، دانشنامهٔ آزاد</td>\n",
       "      <td>https://fa.wikipedia.org/wiki/%D8%B9%D9%84%D9%...</td>\n",
       "      <td>دانشی کاربردی از داده‌ها و ابزارها دارد به علا...</td>\n",
       "    </tr>\n",
       "    <tr>\n",
       "      <th>2</th>\n",
       "      <td>علم داده چیست | کاربردهای رشته دیتا ساینس - متمم</td>\n",
       "      <td>https://motamem.org/%D8%B9%D9%84%D9%85-%D8%AF%...</td>\n",
       "      <td>(Data Science)</td>\n",
       "    </tr>\n",
       "    <tr>\n",
       "      <th>3</th>\n",
       "      <td>علم داده چیست؟ Data Science و Data Mining چه ت...</td>\n",
       "      <td>https://www.irandnn.ir/mag/what-is-data-science/</td>\n",
       "      <td>Esfand 17, 1400 AP</td>\n",
       "    </tr>\n",
       "    <tr>\n",
       "      <th>4</th>\n",
       "      <td>علم داده یا Data Science چیست؟ - فناوران ویراکام</td>\n",
       "      <td>https://virakam.com/%D8%B9%D9%84%D9%85-%D8%AF%...</td>\n",
       "      <td>علم داده ترکیبی از ابزارهای مختلف، الگوریتم ها...</td>\n",
       "    </tr>\n",
       "    <tr>\n",
       "      <th>...</th>\n",
       "      <td>...</td>\n",
       "      <td>...</td>\n",
       "      <td>...</td>\n",
       "    </tr>\n",
       "    <tr>\n",
       "      <th>82</th>\n",
       "      <td>آزمایشگاه نوآوری علم داده - دانشکده ریاضی و عل...</td>\n",
       "      <td>https://aut.ac.ir/find.php?item=7.4670.9806.fa</td>\n",
       "      <td>آزمایشگاه نوآوری علم داده. | تاریخ ارسال: ۱۴۰۰...</td>\n",
       "    </tr>\n",
       "    <tr>\n",
       "      <th>83</th>\n",
       "      <td>Data Science | مجتمع انفورماتیک بین الملل</td>\n",
       "      <td>https://i3center.com/course/Data-Science</td>\n",
       "      <td>دوره تخصص علم داده و مبحث داده کاوی آموزش در م...</td>\n",
       "    </tr>\n",
       "    <tr>\n",
       "      <th>84</th>\n",
       "      <td>علم داده چیست؟ | ?What is Data Science | نمودا...</td>\n",
       "      <td>https://www.nemoudar.com/blog/what-is-data-sci...</td>\n",
       "      <td>Tir 3, 1399 AP —</td>\n",
       "    </tr>\n",
       "    <tr>\n",
       "      <th>85</th>\n",
       "      <td>علوم داده Data Science | علم داده چیست؟ (آمار،...</td>\n",
       "      <td>https://programstore.ir/%D8%B9%D9%84%D9%88%D9%...</td>\n",
       "      <td>Bahman 10, 1398 AP —</td>\n",
       "    </tr>\n",
       "    <tr>\n",
       "      <th>86</th>\n",
       "      <td>گزارش جدید شرکت Kaggle از وضعیت علم داده و یاد...</td>\n",
       "      <td>https://irfinance.ir/blog/%D8%B9%D9%84%D9%85-%...</td>\n",
       "      <td>Aban 23, 1400 AP —</td>\n",
       "    </tr>\n",
       "  </tbody>\n",
       "</table>\n",
       "<p>87 rows × 3 columns</p>\n",
       "</div>"
      ],
      "text/plain": [
       "                                                 Text  \\\n",
       "0   علم داده (Data Science) چیست و چه کاربردهایی د...   \n",
       "1             علم داده‌ها - ویکی‌پدیا، دانشنامهٔ آزاد   \n",
       "2    علم داده چیست | کاربردهای رشته دیتا ساینس - متمم   \n",
       "3   علم داده چیست؟ Data Science و Data Mining چه ت...   \n",
       "4    علم داده یا Data Science چیست؟ - فناوران ویراکام   \n",
       "..                                                ...   \n",
       "82  آزمایشگاه نوآوری علم داده - دانشکده ریاضی و عل...   \n",
       "83          Data Science | مجتمع انفورماتیک بین الملل   \n",
       "84  علم داده چیست؟ | ?What is Data Science | نمودا...   \n",
       "85  علوم داده Data Science | علم داده چیست؟ (آمار،...   \n",
       "86  گزارش جدید شرکت Kaggle از وضعیت علم داده و یاد...   \n",
       "\n",
       "                                                 Link  \\\n",
       "0   https://www.sahab.ir/insights/what-is-data-sci...   \n",
       "1   https://fa.wikipedia.org/wiki/%D8%B9%D9%84%D9%...   \n",
       "2   https://motamem.org/%D8%B9%D9%84%D9%85-%D8%AF%...   \n",
       "3    https://www.irandnn.ir/mag/what-is-data-science/   \n",
       "4   https://virakam.com/%D8%B9%D9%84%D9%85-%D8%AF%...   \n",
       "..                                                ...   \n",
       "82     https://aut.ac.ir/find.php?item=7.4670.9806.fa   \n",
       "83           https://i3center.com/course/Data-Science   \n",
       "84  https://www.nemoudar.com/blog/what-is-data-sci...   \n",
       "85  https://programstore.ir/%D8%B9%D9%84%D9%88%D9%...   \n",
       "86  https://irfinance.ir/blog/%D8%B9%D9%84%D9%85-%...   \n",
       "\n",
       "                                                 Desc  \n",
       "0                                     Tir 19, 1400 AP  \n",
       "1   دانشی کاربردی از داده‌ها و ابزارها دارد به علا...  \n",
       "2                                      (Data Science)  \n",
       "3                                  Esfand 17, 1400 AP  \n",
       "4   علم داده ترکیبی از ابزارهای مختلف، الگوریتم ها...  \n",
       "..                                                ...  \n",
       "82  آزمایشگاه نوآوری علم داده. | تاریخ ارسال: ۱۴۰۰...  \n",
       "83  دوره تخصص علم داده و مبحث داده کاوی آموزش در م...  \n",
       "84                                   Tir 3, 1399 AP —  \n",
       "85                               Bahman 10, 1398 AP —  \n",
       "86                                 Aban 23, 1400 AP —  \n",
       "\n",
       "[87 rows x 3 columns]"
      ]
     },
     "execution_count": 44,
     "metadata": {},
     "output_type": "execute_result"
    }
   ],
   "source": [
    "import pandas as pd\n",
    "from pandas import DataFrame\n",
    "\n",
    "df = DataFrame(Listnews10page,columns=['Text','Link',\"Desc\"])\n",
    "df"
   ]
  },
  {
   "cell_type": "markdown",
   "metadata": {},
   "source": [
    "## Next Page"
   ]
  },
  {
   "cell_type": "code",
   "execution_count": 52,
   "metadata": {},
   "outputs": [
    {
     "data": {
      "text/plain": [
       "[<selenium.webdriver.remote.webelement.WebElement (session=\"9a5a7643c11f97cfc7101925e60fa2b0\", element=\"21d3b45e-5c87-47ab-b7d0-808bdbf31f8f\")>,\n",
       " <selenium.webdriver.remote.webelement.WebElement (session=\"9a5a7643c11f97cfc7101925e60fa2b0\", element=\"aa95139c-d285-46a5-af69-d12414b92921\")>]"
      ]
     },
     "execution_count": 52,
     "metadata": {},
     "output_type": "execute_result"
    }
   ],
   "source": [
    "#pnnext > span:nth-child(2)\n",
    "pages = driver.find_elements_by_css_selector(\"#pnnext > span\")\n",
    "pages"
   ]
  },
  {
   "cell_type": "code",
   "execution_count": 46,
   "metadata": {},
   "outputs": [
    {
     "name": "stdout",
     "output_type": "stream",
     "text": [
      "<selenium.webdriver.remote.webelement.WebElement (session=\"9a5a7643c11f97cfc7101925e60fa2b0\", element=\"895efab8-913e-4e22-ad87-6f402f0d4d1f\")> \n",
      "<selenium.webdriver.remote.webelement.WebElement (session=\"9a5a7643c11f97cfc7101925e60fa2b0\", element=\"fafdad75-4485-41e8-a439-e799d35cdcf7\")> Next\n"
     ]
    }
   ],
   "source": [
    "for i in pages:\n",
    "    print(i, i.text)"
   ]
  },
  {
   "cell_type": "code",
   "execution_count": 47,
   "metadata": {},
   "outputs": [
    {
     "data": {
      "text/plain": [
       "'Next'"
      ]
     },
     "execution_count": 47,
     "metadata": {},
     "output_type": "execute_result"
    }
   ],
   "source": [
    "pages[-1].text"
   ]
  },
  {
   "cell_type": "code",
   "execution_count": 53,
   "metadata": {},
   "outputs": [],
   "source": [
    "pages[-1].click()"
   ]
  },
  {
   "cell_type": "code",
   "execution_count": 54,
   "metadata": {},
   "outputs": [
    {
     "data": {
      "text/html": [
       "<div>\n",
       "<style scoped>\n",
       "    .dataframe tbody tr th:only-of-type {\n",
       "        vertical-align: middle;\n",
       "    }\n",
       "\n",
       "    .dataframe tbody tr th {\n",
       "        vertical-align: top;\n",
       "    }\n",
       "\n",
       "    .dataframe thead th {\n",
       "        text-align: right;\n",
       "    }\n",
       "</style>\n",
       "<table border=\"1\" class=\"dataframe\">\n",
       "  <thead>\n",
       "    <tr style=\"text-align: right;\">\n",
       "      <th></th>\n",
       "      <th>Text</th>\n",
       "      <th>Link</th>\n",
       "      <th>Desc</th>\n",
       "    </tr>\n",
       "  </thead>\n",
       "  <tbody>\n",
       "    <tr>\n",
       "      <th>0</th>\n",
       "      <td>علم داده (Data Science) چیست و چه کاربردهایی د...</td>\n",
       "      <td>https://www.sahab.ir/insights/what-is-data-sci...</td>\n",
       "      <td>Tir 19, 1400 AP —</td>\n",
       "    </tr>\n",
       "    <tr>\n",
       "      <th>1</th>\n",
       "      <td>علم داده‌ها - ویکی‌پدیا، دانشنامهٔ آزاد</td>\n",
       "      <td>https://fa.wikipedia.org/wiki/%D8%B9%D9%84%D9%...</td>\n",
       "      <td>متخصص علم داده دانشی کاربردی از داده‌ها و ابزا...</td>\n",
       "    </tr>\n",
       "    <tr>\n",
       "      <th>2</th>\n",
       "      <td>علم داده چیست | کاربردهای رشته دیتا ساینس - متمم</td>\n",
       "      <td>https://motamem.org/%D8%B9%D9%84%D9%85-%D8%AF%...</td>\n",
       "      <td>بسیاری از ما شنیده‌ایم که علم داده (Data Scien...</td>\n",
       "    </tr>\n",
       "    <tr>\n",
       "      <th>3</th>\n",
       "      <td>علم داده چیست؟ - مجله فرادرس</td>\n",
       "      <td>https://blog.faradars.org/%D8%B9%D9%84%D9%85-%...</td>\n",
       "      <td>«علم داده» (data science)، یک زمینه میان رشته‌...</td>\n",
       "    </tr>\n",
       "    <tr>\n",
       "      <th>4</th>\n",
       "      <td>علم داده چیست و متخصصین علوم داده چه کاری انجا...</td>\n",
       "      <td>https://www.hamyarit.com/basic/data-science/</td>\n",
       "      <td>علم داده‌ یا دیتا ساینس (Data Science) یکی از ...</td>\n",
       "    </tr>\n",
       "    <tr>\n",
       "      <th>...</th>\n",
       "      <td>...</td>\n",
       "      <td>...</td>\n",
       "      <td>...</td>\n",
       "    </tr>\n",
       "    <tr>\n",
       "      <th>156</th>\n",
       "      <td>ضرورت احداث پارک علم و فناوری در سبزوار - خبرگ...</td>\n",
       "      <td>http://danakhabar.com/fa/news/1283342/%D8%B6%D...</td>\n",
       "      <td>2 hours ago —</td>\n",
       "    </tr>\n",
       "    <tr>\n",
       "      <th>157</th>\n",
       "      <td>دولت مصمم است در مسیر ساختن ایران قوی و گره گش...</td>\n",
       "      <td>https://www.mojnews.com/%D8%A8%D8%AE%D8%B4-%D8...</td>\n",
       "      <td>20 hours ago —</td>\n",
       "    </tr>\n",
       "    <tr>\n",
       "      <th>158</th>\n",
       "      <td>فرهنگ علوم اجتماعی قرن بیستم</td>\n",
       "      <td>https://books.google.com/books?id=m9zKAgAAQBAJ...</td>\n",
       "      <td>22 hours ago —</td>\n",
       "    </tr>\n",
       "    <tr>\n",
       "      <th>159</th>\n",
       "      <td>درآمدی بر علم دعوت</td>\n",
       "      <td>https://books.google.com/books?id=-69CEAAAQBAJ...</td>\n",
       "      <td>2 hours ago —</td>\n",
       "    </tr>\n",
       "    <tr>\n",
       "      <th>160</th>\n",
       "      <td>رهبر انقلاب در دیدار فرهنگیان: چند درصد از دان...</td>\n",
       "      <td>https://www.asriran.com/fa/news/839161/%D8%B1%...</td>\n",
       "      <td>20 hours ago —</td>\n",
       "    </tr>\n",
       "  </tbody>\n",
       "</table>\n",
       "<p>161 rows × 3 columns</p>\n",
       "</div>"
      ],
      "text/plain": [
       "                                                  Text  \\\n",
       "0    علم داده (Data Science) چیست و چه کاربردهایی د...   \n",
       "1              علم داده‌ها - ویکی‌پدیا، دانشنامهٔ آزاد   \n",
       "2     علم داده چیست | کاربردهای رشته دیتا ساینس - متمم   \n",
       "3                         علم داده چیست؟ - مجله فرادرس   \n",
       "4    علم داده چیست و متخصصین علوم داده چه کاری انجا...   \n",
       "..                                                 ...   \n",
       "156  ضرورت احداث پارک علم و فناوری در سبزوار - خبرگ...   \n",
       "157  دولت مصمم است در مسیر ساختن ایران قوی و گره گش...   \n",
       "158                       فرهنگ علوم اجتماعی قرن بیستم   \n",
       "159                                 درآمدی بر علم دعوت   \n",
       "160  رهبر انقلاب در دیدار فرهنگیان: چند درصد از دان...   \n",
       "\n",
       "                                                  Link  \\\n",
       "0    https://www.sahab.ir/insights/what-is-data-sci...   \n",
       "1    https://fa.wikipedia.org/wiki/%D8%B9%D9%84%D9%...   \n",
       "2    https://motamem.org/%D8%B9%D9%84%D9%85-%D8%AF%...   \n",
       "3    https://blog.faradars.org/%D8%B9%D9%84%D9%85-%...   \n",
       "4         https://www.hamyarit.com/basic/data-science/   \n",
       "..                                                 ...   \n",
       "156  http://danakhabar.com/fa/news/1283342/%D8%B6%D...   \n",
       "157  https://www.mojnews.com/%D8%A8%D8%AE%D8%B4-%D8...   \n",
       "158  https://books.google.com/books?id=m9zKAgAAQBAJ...   \n",
       "159  https://books.google.com/books?id=-69CEAAAQBAJ...   \n",
       "160  https://www.asriran.com/fa/news/839161/%D8%B1%...   \n",
       "\n",
       "                                                  Desc  \n",
       "0                                    Tir 19, 1400 AP —  \n",
       "1    متخصص علم داده دانشی کاربردی از داده‌ها و ابزا...  \n",
       "2    بسیاری از ما شنیده‌ایم که علم داده (Data Scien...  \n",
       "3    «علم داده» (data science)، یک زمینه میان رشته‌...  \n",
       "4    علم داده‌ یا دیتا ساینس (Data Science) یکی از ...  \n",
       "..                                                 ...  \n",
       "156                                      2 hours ago —  \n",
       "157                                     20 hours ago —  \n",
       "158                                     22 hours ago —  \n",
       "159                                      2 hours ago —  \n",
       "160                                     20 hours ago —  \n",
       "\n",
       "[161 rows x 3 columns]"
      ]
     },
     "execution_count": 54,
     "metadata": {},
     "output_type": "execute_result"
    }
   ],
   "source": [
    "from selenium import webdriver\n",
    "import pandas as pd\n",
    "from pandas import DataFrame\n",
    "\n",
    "n = 20\n",
    "Listnewsnpage = []\n",
    "driver = webdriver.Chrome(executable_path=r\"D:\\chromedriver.exe\")\n",
    "\n",
    "driver.get(\"https://www.google.com/\")\n",
    "\n",
    "search = driver.find_element_by_css_selector(\"body > div.L3eUgb > div.o3j99.ikrT4e.om7nvf > form > div:nth-child(1) > div.A8SBwf > div.RNNXgb > div > div.a4bIc > input\")\n",
    "search.send_keys(\"علم داده\")\n",
    "search.submit()\n",
    "\n",
    "result1 = driver.find_elements_by_css_selector(\"div.yuRUbf\")\n",
    "result2 = driver.find_elements_by_css_selector(\"div.NJo7tc.Z26q7c.uUuwM\")\n",
    "\n",
    "for i in range(len(result1)):\n",
    "    try:\n",
    "        link = result1[i].find_element_by_css_selector(\"a\").get_attribute('href') \n",
    "        title = result1[i].find_element_by_css_selector(\"a > h3 > span\").text \n",
    "        description = result2[i].find_element_by_css_selector(\"span\").text \n",
    "        Listnewsnpage.append([title,link,description])\n",
    "    except:\n",
    "        pass\n",
    "    \n",
    "try:\n",
    "    for i in range(n):\n",
    "        pages = driver.find_elements_by_css_selector(\"#pnnext > span\")[-1].click()\n",
    "\n",
    "        result1 = driver.find_elements_by_css_selector(\"div.yuRUbf\")\n",
    "        result2 = driver.find_elements_by_css_selector(\"div.NJo7tc.Z26q7c.uUuwM\")\n",
    "        for i in range(len(result1)):\n",
    "            try:\n",
    "                link = result1[i].find_element_by_css_selector(\"div.yuRUbf > a\").get_attribute('href') \n",
    "                title = result1[i].find_element_by_css_selector(\"a > h3 > span\").text \n",
    "                description = result2[i].find_element_by_css_selector(\"span\").text \n",
    "                Listnewsnpage.append([title,link,description])\n",
    "            except:\n",
    "                pass\n",
    "except:\n",
    "    pass\n",
    "            \n",
    "\n",
    "df = DataFrame(Listnewsnpage,columns=['Text','Link',\"Desc\"])\n",
    "df"
   ]
  },
  {
   "cell_type": "code",
   "execution_count": 55,
   "metadata": {
    "collapsed": true
   },
   "outputs": [],
   "source": [
    "df.to_csv(r\"D:\\Text9\\3\\GoogleFinal.csv\", sep='|', encoding='utf-8')"
   ]
  },
  {
   "cell_type": "code",
   "execution_count": null,
   "metadata": {
    "collapsed": true
   },
   "outputs": [],
   "source": []
  }
 ],
 "metadata": {
  "kernelspec": {
   "display_name": "Python 3",
   "language": "python",
   "name": "python3"
  },
  "language_info": {
   "codemirror_mode": {
    "name": "ipython",
    "version": 3
   },
   "file_extension": ".py",
   "mimetype": "text/x-python",
   "name": "python",
   "nbconvert_exporter": "python",
   "pygments_lexer": "ipython3",
   "version": "3.6.7"
  }
 },
 "nbformat": 4,
 "nbformat_minor": 2
}
