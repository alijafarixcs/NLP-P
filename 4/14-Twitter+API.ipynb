{
 "cells": [
  {
   "cell_type": "markdown",
   "metadata": {},
   "source": [
    "# Twitter API"
   ]
  },
  {
   "cell_type": "markdown",
   "metadata": {},
   "source": [
    "## Tweepy"
   ]
  },
  {
   "cell_type": "markdown",
   "metadata": {},
   "source": [
    "### https://developer.twitter.com/apps"
   ]
  },
  {
   "cell_type": "code",
   "execution_count": null,
   "metadata": {
    "collapsed": true
   },
   "outputs": [],
   "source": [
    "# -*- coding: utf-8 -*-\n",
    "\n",
    "import tweepy\n",
    "from tweepy.api import API\n",
    "import pandas as pd\n",
    "Token_API = [\" \",\" \",\" \",\" \"]\n",
    "ACCESS_TOKEN = Token_API[0]\n",
    "ACCESS_TOKEN_SECRET = Token_API[1]\n",
    "API_KEY = Token_API[2]\n",
    "API_SECRET = Token_API[3]"
   ]
  },
  {
   "cell_type": "code",
   "execution_count": null,
   "metadata": {
    "scrolled": true
   },
   "outputs": [],
   "source": [
    "key = tweepy.OAuthHandler(API_KEY, API_SECRET)\n",
    "key.set_access_token(ACCESS_TOKEN, ACCESS_TOKEN_SECRET)\n",
    "\n",
    "api = tweepy.API(key)\n",
    "\n",
    "try:\n",
    "    api.verify_credentials()\n",
    "    print(\"Authentication OK\")\n",
    "except:\n",
    "    print(\"Error during authentication\")"
   ]
  },
  {
   "cell_type": "markdown",
   "metadata": {},
   "source": [
    "### Twitter User"
   ]
  },
  {
   "cell_type": "code",
   "execution_count": null,
   "metadata": {},
   "outputs": [],
   "source": [
    "\n",
    "user = api.get_user(\"M0htat\")\n",
    "user\n"
   ]
  },
  {
   "cell_type": "code",
   "execution_count": null,
   "metadata": {},
   "outputs": [],
   "source": [
    "print(\"User details:\")\n",
    "print(user.id)\n",
    "print(user.name)\n",
    "print(user.description)\n",
    "print(user.location)\n",
    "print(user.created_at)\n",
    "print(user.friends_count)\n",
    "print(user.geo_enabled)\n",
    "print(user.lang)\n",
    "print(dict(user.entities)['url']['urls'][0]['expanded_url'])\n",
    "print(user.followers_count)"
   ]
  },
  {
   "cell_type": "code",
   "execution_count": null,
   "metadata": {},
   "outputs": [],
   "source": [
    "print(\"\\nLast 20 Followers:\")\n",
    "for follower in user.followers():\n",
    "    print(follower.name)"
   ]
  },
  {
   "cell_type": "code",
   "execution_count": null,
   "metadata": {},
   "outputs": [],
   "source": [
    "import time\n",
    "\n",
    "ids = []\n",
    "for page in tweepy.Cursor(api.followers_ids, screen_name=\"M0htat\").pages():\n",
    "    ids.extend(page)\n",
    "    time.sleep(5)\n",
    "\n",
    "print(len(ids))\n",
    "\n",
    "ids"
   ]
  },
  {
   "cell_type": "code",
   "execution_count": null,
   "metadata": {},
   "outputs": [],
   "source": [
    "TextsUser = api.user_timeline(screen_name = 'M0htat', count = 1000, include_rts = True)\n",
    "\n",
    "TextsUser"
   ]
  },
  {
   "cell_type": "code",
   "execution_count": null,
   "metadata": {},
   "outputs": [],
   "source": [
    "users_locs = [[status.text, status.created_at,status.lang,status.favorite_count,status.retweet_count]for status in TextsUser]\n",
    "\n",
    "tweet_User = pd.DataFrame(data=users_locs, \n",
    "                    columns=['Text', \"Date\",\"Lang\",\"favorite_count\",\"retweet_count\"])\n",
    "tweet_User"
   ]
  },
  {
   "cell_type": "markdown",
   "metadata": {},
   "source": [
    "### Twiteer Search"
   ]
  },
  {
   "cell_type": "code",
   "execution_count": null,
   "metadata": {},
   "outputs": [],
   "source": [
    "for tweet in tweepy.Cursor(api.search, q='#فیروزآبادی',result_type='popular').items(20):\n",
    "    print(tweet.text)"
   ]
  },
  {
   "cell_type": "code",
   "execution_count": null,
   "metadata": {},
   "outputs": [],
   "source": [
    "date_since = \"2021-09-01\"\n",
    "tweets = tweepy.Cursor(api.search,\n",
    "              q='#رونالدو',\n",
    "              lang=\"fa\",\n",
    "              since=date_since).items(1000)\n",
    "xxx = 0\n",
    "for tweet in tweets:\n",
    "    print(xxx,\"\\n\",tweet.text,\"<>\",tweet.user.screen_name,tweet.created_at)\n",
    "    xxx +=1"
   ]
  },
  {
   "cell_type": "code",
   "execution_count": null,
   "metadata": {},
   "outputs": [],
   "source": [
    "import pandas as pd\n",
    "tweets = tweepy.Cursor(api.search, \n",
    "                           q='رونالدو',\n",
    "                           lang=\"fa\",\n",
    "                           since=date_since).items(100)\n",
    "\n",
    "users_locs = [[tweet.user.screen_name, tweet.user.location,tweet.text,tweet.created_at] for tweet in tweets]\n",
    "\n",
    "tweet_text = pd.DataFrame(data=users_locs, \n",
    "                    columns=['user', \"location\",\"Text\",\"Time\"])\n",
    "tweet_text"
   ]
  },
  {
   "cell_type": "markdown",
   "metadata": {},
   "source": [
    "### Twitter Trends"
   ]
  },
  {
   "cell_type": "code",
   "execution_count": null,
   "metadata": {},
   "outputs": [],
   "source": [
    "api.trends_available()"
   ]
  },
  {
   "cell_type": "code",
   "execution_count": null,
   "metadata": {},
   "outputs": [],
   "source": [
    "trends_result = api.trends_place(1)\n",
    "for trend in trends_result[0][\"trends\"]:\n",
    "    print(trend[\"name\"],trend[\"tweet_volume\"])\n",
    "    \n",
    "#api.trends_available()"
   ]
  },
  {
   "cell_type": "markdown",
   "metadata": {},
   "source": [
    "## Twitter Streaming "
   ]
  },
  {
   "cell_type": "code",
   "execution_count": null,
   "metadata": {},
   "outputs": [],
   "source": [
    "import simplejson as json\n",
    "import codecs\n",
    "\n",
    "class listener(tweepy.StreamListener):\n",
    "   def on_data(self, data):\n",
    "      try:\n",
    "         all_data = json.loads(data)\n",
    "         tweet = all_data['extended_tweet']['full_text']\n",
    "         encoded = tweet.encode(\"utf-8\", errors='ignore').decode('UTF-8')\n",
    "         username = all_data[\"user\"][\"screen_name\"]\n",
    "         print (username,\" :: \", encoded,\"\\n\"*3)\n",
    "            \n",
    "      except:\n",
    "         all_data = json.loads(data)\n",
    "         tweet = all_data[\"text\"]\n",
    "         encoded = tweet.encode(\"utf-8\", errors='ignore').decode('UTF-8')\n",
    "         username = all_data[\"user\"][\"screen_name\"]\n",
    "         print (username,\" :: \", encoded,\"\\n\"*3)\n",
    "        \n",
    "      return True\n",
    "   def on_error(self, status):\n",
    "      print (status)\n",
    "\n",
    "\n",
    "keywords = ['رونالدو']\n",
    "twitterStream = tweepy.Stream(key, listener(),tweet_mode='extended')\n",
    "try:\n",
    "   twitterStream.filter(track=keywords)\n",
    "finally:\n",
    "   pass"
   ]
  },
  {
   "cell_type": "code",
   "execution_count": null,
   "metadata": {
    "collapsed": true
   },
   "outputs": [],
   "source": []
  }
 ],
 "metadata": {
  "kernelspec": {
   "display_name": "Python 3",
   "language": "python",
   "name": "python3"
  },
  "language_info": {
   "codemirror_mode": {
    "name": "ipython",
    "version": 3
   },
   "file_extension": ".py",
   "mimetype": "text/x-python",
   "name": "python",
   "nbconvert_exporter": "python",
   "pygments_lexer": "ipython3",
   "version": "3.6.7"
  }
 },
 "nbformat": 4,
 "nbformat_minor": 2
}
